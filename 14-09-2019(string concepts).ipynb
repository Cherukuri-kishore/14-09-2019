{
 "cells": [
  {
   "cell_type": "markdown",
   "metadata": {},
   "source": [
    "# strings"
   ]
  },
  {
   "cell_type": "code",
   "execution_count": 2,
   "metadata": {},
   "outputs": [],
   "source": [
    "#strings\n",
    "s='HELLO WORLD!'"
   ]
  },
  {
   "cell_type": "code",
   "execution_count": 3,
   "metadata": {},
   "outputs": [
    {
     "name": "stdout",
     "output_type": "stream",
     "text": [
      "H\n",
      "E\n",
      " \n"
     ]
    }
   ],
   "source": [
    "#acccessing using positive index\n",
    "print(s[0])\n",
    "print(s[1])\n",
    "print(s[5])"
   ]
  },
  {
   "cell_type": "code",
   "execution_count": 4,
   "metadata": {},
   "outputs": [
    {
     "name": "stdout",
     "output_type": "stream",
     "text": [
      "!\n",
      "W\n",
      " \n",
      "H\n"
     ]
    }
   ],
   "source": [
    "#accesing using negetive index\n",
    "print(s[-1])\n",
    "print(s[-6])\n",
    "print(s[-7])\n",
    "print(s[-0])"
   ]
  },
  {
   "cell_type": "code",
   "execution_count": 5,
   "metadata": {},
   "outputs": [
    {
     "name": "stdout",
     "output_type": "stream",
     "text": [
      "!\n",
      "H\n",
      "!\n",
      "H\n"
     ]
    }
   ],
   "source": [
    "#accesing using length function\n",
    "print(s[len(s)-1])\n",
    "print(s[len(s)-12])\n",
    "print(s[len(s)-13])\n",
    "print(s[len(s)-24])             #length(s)is 12 -24 =-12 ;s(-12)=h  :if s(-25) ;then error"
   ]
  },
  {
   "cell_type": "code",
   "execution_count": 6,
   "metadata": {},
   "outputs": [
    {
     "name": "stdout",
     "output_type": "stream",
     "text": [
      "H\n",
      "E\n",
      "L\n",
      "L\n",
      "O\n",
      " \n",
      "W\n",
      "O\n",
      "R\n",
      "L\n",
      "D\n",
      "!\n"
     ]
    }
   ],
   "source": [
    "#loops\n",
    "for i in range(len(s)):      # i is index value of string range takes only values of int\n",
    "    print(s[i])"
   ]
  },
  {
   "cell_type": "code",
   "execution_count": 7,
   "metadata": {},
   "outputs": [
    {
     "name": "stdout",
     "output_type": "stream",
     "text": [
      "H\n",
      "E\n",
      "L\n",
      "L\n",
      "O\n",
      " \n",
      "W\n",
      "O\n",
      "R\n",
      "L\n",
      "D\n",
      "!\n"
     ]
    }
   ],
   "source": [
    "for i in (s):\n",
    "    print(i)     # i is element in string"
   ]
  },
  {
   "cell_type": "code",
   "execution_count": 8,
   "metadata": {},
   "outputs": [
    {
     "name": "stdout",
     "output_type": "stream",
     "text": [
      "0 c\n",
      "1 h\n",
      "2 a\n",
      "3 i\n",
      "4 t\n",
      "5 a\n",
      "6 n\n",
      "7 y\n",
      "8 a\n"
     ]
    }
   ],
   "source": [
    "s='chaitanya'\n",
    "length = len(s)\n",
    "#for var in range(end - 1)\n",
    "for i in range (length):\n",
    "    print(i,s[i])"
   ]
  },
  {
   "cell_type": "code",
   "execution_count": 9,
   "metadata": {},
   "outputs": [
    {
     "name": "stdout",
     "output_type": "stream",
     "text": [
      "c\n",
      "h\n",
      "a\n",
      "i\n",
      "t\n",
      "a\n",
      "n\n",
      "y\n",
      "a\n"
     ]
    }
   ],
   "source": [
    "for i in s:\n",
    "    print(i)               # i represent element in string"
   ]
  },
  {
   "cell_type": "markdown",
   "metadata": {},
   "source": [
    "# string slicing"
   ]
  },
  {
   "cell_type": "code",
   "execution_count": 10,
   "metadata": {},
   "outputs": [
    {
     "name": "stdout",
     "output_type": "stream",
     "text": [
      "SSDC MSTP\n",
      "AP\n",
      "APSSDC\n",
      "SSDC\n",
      "APSSDC MSTP\n"
     ]
    }
   ],
   "source": [
    "s='APSSDC MSTP'         \n",
    "print(s[2:])                 # slicing = string_var[start_index:end_index -1]\n",
    "print(s[:2])\n",
    "print(s[:6])\n",
    "print(s[2:6])\n",
    "print(s[:len(s)])"
   ]
  },
  {
   "cell_type": "code",
   "execution_count": 11,
   "metadata": {},
   "outputs": [
    {
     "name": "stdout",
     "output_type": "stream",
     "text": [
      "ASD SP\n",
      "AS T\n",
      "PSCMT\n",
      "PS DS\n",
      "PTSM CDSSPA\n",
      "PS DSA\n",
      "PS DS\n"
     ]
    }
   ],
   "source": [
    "                              # only even index values\n",
    "                              # string var(s[0:len(s):increment/decrement])\n",
    "print(s[0:len(s):2])\n",
    "print(s[0:len(s):3])\n",
    "print(s[1:len(s):2])\n",
    "                              # in reverse order\n",
    "print(s[len(s):0:-2])\n",
    "print(s[::-1])\n",
    "print(s[::-2])\n",
    "print(s[len(s):1:-2])"
   ]
  },
  {
   "cell_type": "markdown",
   "metadata": {},
   "source": [
    "# task 1\n",
    "## find the length of the string"
   ]
  },
  {
   "cell_type": "code",
   "execution_count": 49,
   "metadata": {},
   "outputs": [
    {
     "name": "stdout",
     "output_type": "stream",
     "text": [
      "enter a stringProblem Solving Using Python\n",
      "length of the given string is 28\n"
     ]
    }
   ],
   "source": [
    "st=input(\"enter a string\")\n",
    "count=0\n",
    "for i in st:\n",
    "    count +=1\n",
    "print('length of the given string is',count)"
   ]
  },
  {
   "cell_type": "markdown",
   "metadata": {},
   "source": [
    "# task 2\n",
    "## change the string to lower case"
   ]
  },
  {
   "cell_type": "code",
   "execution_count": 50,
   "metadata": {},
   "outputs": [
    {
     "name": "stdout",
     "output_type": "stream",
     "text": [
      "enter a stringProblem Solving Using Python\n",
      "problem solving using python\n"
     ]
    }
   ],
   "source": [
    "st=input(\"enter a string\")\n",
    "s=st.lower()\n",
    "print(s)"
   ]
  },
  {
   "cell_type": "markdown",
   "metadata": {},
   "source": [
    "# task 3\n",
    "## print string in reverse order"
   ]
  },
  {
   "cell_type": "code",
   "execution_count": 51,
   "metadata": {},
   "outputs": [
    {
     "name": "stdout",
     "output_type": "stream",
     "text": [
      "enter a stringProblem Solving Using Python\n",
      "nohtyP gnisU gnivloS melborP\n"
     ]
    }
   ],
   "source": [
    "st=input(\"enter a string\")\n",
    "print(st[::-1])"
   ]
  },
  {
   "cell_type": "markdown",
   "metadata": {},
   "source": [
    "# task 4\n",
    "## split the string"
   ]
  },
  {
   "cell_type": "code",
   "execution_count": 52,
   "metadata": {},
   "outputs": [
    {
     "name": "stdout",
     "output_type": "stream",
     "text": [
      "enter a stringProblem Solving Using Python\n"
     ]
    },
    {
     "data": {
      "text/plain": [
       "['Problem', 'Solving', 'Using', 'Python']"
      ]
     },
     "execution_count": 52,
     "metadata": {},
     "output_type": "execute_result"
    }
   ],
   "source": [
    "st=input(\"enter a string\")\n",
    "st.split()"
   ]
  },
  {
   "cell_type": "markdown",
   "metadata": {},
   "source": [
    "# task 5\n",
    "## print string without spaces"
   ]
  },
  {
   "cell_type": "code",
   "execution_count": 53,
   "metadata": {},
   "outputs": [
    {
     "name": "stdout",
     "output_type": "stream",
     "text": [
      "enter a stringProblem Solving Using Python\n",
      "ProblemSolvingUsingPython"
     ]
    }
   ],
   "source": [
    "st=input(\"enter a string\")\n",
    "s=st.split()\n",
    "for i in s:\n",
    "    print(i,end=\"\")"
   ]
  },
  {
   "cell_type": "markdown",
   "metadata": {},
   "source": [
    "# task 6\n",
    "## how many times 's' repeated in a string"
   ]
  },
  {
   "cell_type": "code",
   "execution_count": 55,
   "metadata": {},
   "outputs": [
    {
     "name": "stdout",
     "output_type": "stream",
     "text": [
      "enter a string Problem Solving Using Python\n",
      "number of times 's' repeted is :  2\n"
     ]
    }
   ],
   "source": [
    "st=input('enter a string ')\n",
    "count=0\n",
    "for i in range(len(st)):\n",
    "    if(st[i]==\"s\" or st[i]==\"S\"):\n",
    "        count+=1\n",
    "print(\"number of times 's' repeted is : \",count)"
   ]
  },
  {
   "cell_type": "markdown",
   "metadata": {},
   "source": [
    "# task 7\n",
    "## how many times 'python' repeated"
   ]
  },
  {
   "cell_type": "code",
   "execution_count": 56,
   "metadata": {},
   "outputs": [
    {
     "name": "stdout",
     "output_type": "stream",
     "text": [
      "enter the string : python programming by python platforms\n",
      "number of times python repeted :  2\n"
     ]
    }
   ],
   "source": [
    "st = input('enter the string : ')\n",
    "count=0\n",
    "s=st.split()\n",
    "for i in s:\n",
    "    if i=='python':\n",
    "        count+=1\n",
    "print(\"number of times python repeted : \",count)"
   ]
  },
  {
   "cell_type": "markdown",
   "metadata": {},
   "source": [
    "# task 8\n",
    "## no of times each digit repeated"
   ]
  },
  {
   "cell_type": "code",
   "execution_count": 77,
   "metadata": {},
   "outputs": [
    {
     "name": "stdout",
     "output_type": "stream",
     "text": [
      "Enter a string: pythonprogramming\n",
      "2\n",
      "1\n",
      "1\n",
      "1\n",
      "2\n",
      "2\n",
      "2\n",
      "2\n",
      "2\n",
      "2\n",
      "2\n",
      "1\n",
      "2\n",
      "2\n",
      "1\n",
      "2\n",
      "2\n"
     ]
    }
   ],
   "source": [
    "st = input('Enter a string: ')\n",
    "l=len(st)\n",
    "count=0\n",
    "for i in range(l):\n",
    "    c=st.count(st[i])\n",
    "    print(c)"
   ]
  },
  {
   "cell_type": "code",
   "execution_count": 25,
   "metadata": {},
   "outputs": [
    {
     "name": "stdout",
     "output_type": "stream",
     "text": [
      "Enter a string: pythonprogramming\n",
      "p - 2\n",
      "y - 1\n",
      "t - 1\n",
      "h - 1\n",
      "o - 2\n",
      "n - 2\n",
      "r - 2\n",
      "g - 2\n",
      "a - 1\n",
      "m - 2\n",
      "i - 1\n"
     ]
    }
   ],
   "source": [
    "st = input('Enter a string: ')\n",
    "l=len(st)\n",
    "\n",
    "for i in range(l):\n",
    "    count=0\n",
    "    for j in range(l):\n",
    "        if(st[i]==st[j]):\n",
    "            count+=1\n",
    "    match=True\n",
    "    k=i-1\n",
    "    while k>=0:\n",
    "        if(st[i]==st[k]):\n",
    "            match=False\n",
    "        k=k-1\n",
    "    if match==True:\n",
    "        print(st[i],'-',count)"
   ]
  },
  {
   "cell_type": "code",
   "execution_count": 29,
   "metadata": {},
   "outputs": [
    {
     "name": "stdout",
     "output_type": "stream",
     "text": [
      "p - 2\n",
      "y - 1\n",
      "t - 1\n",
      "h - 1\n",
      "o - 2\n",
      "n - 2\n",
      "r - 2\n",
      "g - 2\n",
      "a - 1\n",
      "m - 2\n",
      "i - 1\n"
     ]
    }
   ],
   "source": [
    "# method 2\n",
    "s='pythonprogramming'\n",
    "r=''\n",
    "for i in s:\n",
    "    if i not in r:\n",
    "        r=r+i\n",
    "for i in r: \n",
    "    count=0\n",
    "    for j in s:\n",
    "        if i==j:\n",
    "            count+=1\n",
    "    print(i,'-',count)\n"
   ]
  },
  {
   "cell_type": "code",
   "execution_count": null,
   "metadata": {},
   "outputs": [],
   "source": []
  }
 ],
 "metadata": {
  "kernelspec": {
   "display_name": "Python 3",
   "language": "python",
   "name": "python3"
  },
  "language_info": {
   "codemirror_mode": {
    "name": "ipython",
    "version": 3
   },
   "file_extension": ".py",
   "mimetype": "text/x-python",
   "name": "python",
   "nbconvert_exporter": "python",
   "pygments_lexer": "ipython3",
   "version": "3.7.3"
  }
 },
 "nbformat": 4,
 "nbformat_minor": 2
}
