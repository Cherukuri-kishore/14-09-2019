{
 "cells": [
  {
   "cell_type": "markdown",
   "metadata": {},
   "source": [
    "## task 2\n",
    "number of digits in given number"
   ]
  },
  {
   "cell_type": "code",
   "execution_count": 11,
   "metadata": {},
   "outputs": [
    {
     "name": "stdout",
     "output_type": "stream",
     "text": [
      "enter a number123456789\n",
      "9\n"
     ]
    }
   ],
   "source": [
    "a = int(input('enter a number'))\n",
    "count=0\n",
    "while(a > 0):\n",
    "    a = a // 10\n",
    "    count = count + 1\n",
    "print(count)"
   ]
  },
  {
   "cell_type": "markdown",
   "metadata": {},
   "source": [
    "## task 1\n",
    "given is leap year or not"
   ]
  },
  {
   "cell_type": "code",
   "execution_count": 1,
   "metadata": {},
   "outputs": [
    {
     "name": "stdout",
     "output_type": "stream",
     "text": [
      "enter year1990\n",
      "not a leap year\n"
     ]
    }
   ],
   "source": [
    "year = int(input('enter year'))\n",
    "if(year % 400== 0 or (year%4==0 and year%100!=0)):\n",
    "    print(\"leap year\")\n",
    "else:\n",
    "    print('not a leap year')"
   ]
  },
  {
   "cell_type": "markdown",
   "metadata": {},
   "source": [
    "## task 4\n",
    "calculate the square root or not"
   ]
  },
  {
   "cell_type": "code",
   "execution_count": 14,
   "metadata": {},
   "outputs": [
    {
     "name": "stdout",
     "output_type": "stream",
     "text": [
      "enter a number9\n",
      "square root of the gien number is   3.0\n"
     ]
    }
   ],
   "source": [
    "a = int(input('enter a number'))\n",
    "print('square root of the gien number is  ',a**(1/2))"
   ]
  },
  {
   "cell_type": "markdown",
   "metadata": {},
   "source": [
    "## task 3\n",
    "checking given number is a factor of 1000"
   ]
  },
  {
   "cell_type": "code",
   "execution_count": 10,
   "metadata": {},
   "outputs": [
    {
     "name": "stdout",
     "output_type": "stream",
     "text": [
      "enter a number500\n",
      "500 is factor of 1000\n"
     ]
    }
   ],
   "source": [
    "a = int(input('enter a number'))\n",
    "if(1000%a == 0):\n",
    "    print(str(a)+\" is factor of 1000\")\n",
    "else:\n",
    "    print(str(a)+\" is not a factor of 1000\")"
   ]
  },
  {
   "cell_type": "markdown",
   "metadata": {},
   "source": [
    "## task 5\n",
    "check if given number exinting in given range or not"
   ]
  },
  {
   "cell_type": "code",
   "execution_count": 23,
   "metadata": {},
   "outputs": [
    {
     "name": "stdout",
     "output_type": "stream",
     "text": [
      "enter a number 166\n",
      "first of the range2\n",
      "second of the range1\n",
      "ERROR : enter the valid range\n"
     ]
    }
   ],
   "source": [
    "n = int(input('enter a number '))\n",
    "a = int(input('first of the range'))\n",
    "b = int(input('second of the range'))\n",
    "if(a<b):\n",
    "    if(a<=n<=b):\n",
    "        print(n,'is in given range')\n",
    "    else:\n",
    "        print(str(n)+'is not in given range')\n",
    "else:\n",
    "    print ('ERROR : enter the valid range')"
   ]
  },
  {
   "cell_type": "code",
   "execution_count": 26,
   "metadata": {},
   "outputs": [
    {
     "name": "stdout",
     "output_type": "stream",
     "text": [
      "enter a number 10\n",
      "first of the range1\n",
      "second of the range11\n",
      "10  is in range\n"
     ]
    }
   ],
   "source": [
    "# method 2\n",
    "n = int(input('enter a number '))\n",
    "a = int(input('first of the range'))\n",
    "b = int(input('second of the range'))\n",
    "for i in range(a,b+1):\n",
    "    if i==n:\n",
    "        print(n,' is in range')"
   ]
  },
  {
   "cell_type": "code",
   "execution_count": 29,
   "metadata": {},
   "outputs": [
    {
     "name": "stdout",
     "output_type": "stream",
     "text": [
      "enter a number 10\n",
      "first of the range1\n",
      "second of the range11\n",
      "10  is in range\n"
     ]
    }
   ],
   "source": [
    "# method 3\n",
    "n = int(input('enter a number '))\n",
    "a = int(input('first of the range'))\n",
    "b = int(input('second of the range'))\n",
    "count=0\n",
    "for i in range(a,b+1):\n",
    "    if i==n:\n",
    "        count=count+1\n",
    "if count==1:\n",
    "    print(n,' is in range')\n",
    "else:\n",
    "    print(n,' is not in range')"
   ]
  },
  {
   "cell_type": "code",
   "execution_count": 32,
   "metadata": {},
   "outputs": [
    {
     "name": "stdout",
     "output_type": "stream",
     "text": [
      "enter a number 10\n",
      "first of the range1\n",
      "second of the range10\n",
      "10  is in range\n"
     ]
    }
   ],
   "source": [
    "# method 4\n",
    "n = int(input('enter a number '))\n",
    "a = int(input('first of the range'))\n",
    "b = int(input('second of the range'))\n",
    "count=0\n",
    "if n in range(a,b+1):\n",
    "    print(n,' is in range')\n",
    "else:\n",
    "    print(n,' is not in range')"
   ]
  },
  {
   "cell_type": "code",
   "execution_count": null,
   "metadata": {},
   "outputs": [],
   "source": []
  }
 ],
 "metadata": {
  "kernelspec": {
   "display_name": "Python 3",
   "language": "python",
   "name": "python3"
  },
  "language_info": {
   "codemirror_mode": {
    "name": "ipython",
    "version": 3
   },
   "file_extension": ".py",
   "mimetype": "text/x-python",
   "name": "python",
   "nbconvert_exporter": "python",
   "pygments_lexer": "ipython3",
   "version": "3.7.3"
  }
 },
 "nbformat": 4,
 "nbformat_minor": 2
}
